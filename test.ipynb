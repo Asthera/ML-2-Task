{
 "cells": [
  {
   "cell_type": "code",
   "execution_count": 56,
   "id": "initial_id",
   "metadata": {
    "collapsed": true,
    "ExecuteTime": {
     "end_time": "2024-04-19T08:05:03.886810Z",
     "start_time": "2024-04-19T08:05:03.874793Z"
    }
   },
   "outputs": [
    {
     "name": "stdout",
     "output_type": "stream",
     "text": [
      "False\n",
      "12\n"
     ]
    }
   ],
   "source": [
    "import numpy as np\n",
    "\n",
    "from eight_puzzle import EightPuzzleEnv\n",
    "\n",
    "env = EightPuzzleEnv()\n",
    "\n",
    "array_worst = np.array([[0, 6, 3],\n",
    " [8, 4, 2],\n",
    " [7, 1, 5]])\n",
    "\n",
    "print(env.is_solvable(array_worst))\n",
    "print(env.manhattan_distance(array_worst))\n"
   ]
  },
  {
   "cell_type": "code",
   "outputs": [],
   "source": [
    "all_posible_states = np.array(list(array))"
   ],
   "metadata": {
    "collapsed": false
   },
   "id": "5ffd9b9cb7597fcb"
  },
  {
   "cell_type": "code",
   "outputs": [
    {
     "name": "stdout",
     "output_type": "stream",
     "text": [
      "35\n",
      "74\n",
      "15\n"
     ]
    }
   ],
   "source": [
    "string = \".??..??...?##.?.??..??...?##.?.??..??...?##.?.??..??...?##.?.??..??...?##.\"\n",
    "arr = [1,1,3,1,1,3,1,1,3,1,1,3,1,1,3]\n",
    "\n",
    "split = string.count('.')\n",
    "print(split)\n",
    "\n",
    "print(len(string))\n",
    "print(len(arr))"
   ],
   "metadata": {
    "collapsed": false,
    "ExecuteTime": {
     "end_time": "2024-04-18T11:19:06.720405Z",
     "start_time": "2024-04-18T11:19:06.716378Z"
    }
   },
   "id": "7ee29f48af2af8cf",
   "execution_count": 11
  },
  {
   "cell_type": "markdown",
   "source": [
    "'.' and '#' are fixed values\n",
    "'?' can be changed to '.' or '#'\n"
   ],
   "metadata": {
    "collapsed": false
   },
   "id": "3850951f833d3af0"
  },
  {
   "cell_type": "code",
   "outputs": [
    {
     "name": "stdout",
     "output_type": "stream",
     "text": [
      "Кількість можливих способів: [[1, 0, 0], [0, 0, 0], [0, 0, 0], [0, 0, 0], [0, 1, 0], [0, 1, 0]]\n"
     ]
    }
   ],
   "source": [
    "def count_ways(pattern, sizes):\n",
    "    n = len(pattern)\n",
    "    k = len(sizes)\n",
    "    # dp[i][j] is the number of ways to arrange up to the i-th character with j blocks correctly placed\n",
    "    dp = [[0] * (k + 1) for _ in range(n + 1)]\n",
    "    dp[0][0] = 1  # Base case: 1 way to do nothing with no blocks\n",
    "\n",
    "    # Fill dp table\n",
    "    for i in range(1, n + 1):\n",
    "        for j in range(1, k + 1):\n",
    "            size = sizes[j-1]\n",
    "            # Check if there's enough space for the current block\n",
    "            if i >= size:\n",
    "                # Start of the block in pattern\n",
    "                start = i - size\n",
    "                # Check if this block can be placed here\n",
    "                if pattern[start:i] == '?' * size or pattern[start:i] == '#' * size:\n",
    "                    # Check if there's a separation dot before this block if it's not the first block\n",
    "                    if j == 1 or (start > 0 and pattern[start-1] == '.'):\n",
    "                        dp[i][j] = sum(dp[start][j-1] for start in range(max(0, start - 1)))\n",
    "\n",
    "    return dp\n",
    "# Виклик функції\n",
    "s = \"??.##\"\n",
    "blocks = [1,2]\n",
    "print(\"Кількість можливих способів:\", count_ways(s, blocks))"
   ],
   "metadata": {
    "collapsed": false,
    "ExecuteTime": {
     "end_time": "2024-04-18T13:06:18.007915Z",
     "start_time": "2024-04-18T13:06:18.005169Z"
    }
   },
   "id": "c34659d7c0922021",
   "execution_count": 18
  },
  {
   "cell_type": "code",
   "outputs": [
    {
     "name": "stdout",
     "output_type": "stream",
     "text": [
      "1\n"
     ]
    }
   ],
   "source": [
    "def count_configurations(line, blocks):\n",
    "    n = len(line)\n",
    "    m = len(blocks)\n",
    "    dp = [[0] * (m + 1) for _ in range(n + 1)]\n",
    "    dp[0][0] = 1  # One way to form 0 blocks in 0 characters: do nothing.\n",
    "\n",
    "    # Helper function to check if a block can be placed at position starting from `start`.\n",
    "    def can_place_block(start, length):\n",
    "        if start + length > n:\n",
    "            return False\n",
    "        for i in range(length):\n",
    "            if line[start + i] == '.':\n",
    "                return False\n",
    "        # Check one more character after the block if it exists in the string to ensure separation.\n",
    "        if start + length < n and line[start + length] == '#':\n",
    "            return False\n",
    "        return True\n",
    "\n",
    "    for i in range(n):\n",
    "        for j in range(m):\n",
    "            if dp[i][j] == 0:\n",
    "                continue  # No way to form j blocks in the first i characters.\n",
    "            # Try to place the j-th block of 'blocks[j]' hash marks.\n",
    "            block_length = blocks[j]\n",
    "            # Start placement from the next character or ensure a dot before it if not at the start.\n",
    "            for start in range(i + (1 if i > 0 and line[i - 1] == '#' else 0), n):\n",
    "                if can_place_block(start, block_length):\n",
    "                    # Update the dp for the position after this block + 1 for the required dot.\n",
    "                    if start + block_length < n and line[start + block_length] == '.':\n",
    "                        dp[start + block_length + 1][j + 1] += dp[i][j]\n",
    "                    elif start + block_length == n:  # End of the string, no dot needed.\n",
    "                        dp[start + block_length][j + 1] += dp[i][j]\n",
    "\n",
    "    # The answer is the number of ways to form all m blocks in the entire string length.\n",
    "    return dp[n][m]\n",
    "\n",
    "line = \"??.##\"\n",
    "blocks = [1,2]\n",
    "\n",
    "print(count_configurations(line, blocks))\n"
   ],
   "metadata": {
    "collapsed": false,
    "ExecuteTime": {
     "end_time": "2024-04-18T13:10:27.333403Z",
     "start_time": "2024-04-18T13:10:27.312123Z"
    }
   },
   "id": "6bea3e8e8842c7f8",
   "execution_count": 19
  },
  {
   "cell_type": "code",
   "outputs": [],
   "source": [
    "def count_configurations(line, blocks):\n",
    "    n = len(line)\n",
    "    m = len(blocks)\n",
    "    dp = [[0] * (m + 1) for _ in range(n + 1)]\n",
    "    dp[0][0] = 1  # One way to form 0 blocks in 0 characters: do nothing.\n",
    "\n",
    "    # Helper function to check if a block can be placed at position starting from `start`.\n",
    "    def can_place_block(start, length):\n",
    "        if start + length > n:\n",
    "            return False\n",
    "        for i in range(length):\n",
    "            if line[start + i] == '.':\n",
    "                return False\n",
    "        # Check one more character after the block if it exists in the string to ensure separation.\n",
    "        if start + length < n and line[start + length] == '#':\n",
    "            return False\n",
    "        return True\n",
    "\n",
    "    for i in range(n):\n",
    "        for j in range(m):\n",
    "            if dp[i][j] == 0:\n",
    "                continue  # No way to form j blocks in the first i characters.\n",
    "            # Try to place the j-th block of 'blocks[j]' hash marks.\n",
    "            block_length = blocks[j]\n",
    "            # Start placement from the next character or ensure a dot before it if not at the start.\n",
    "            for start in range(i + (1 if i > 0 and line[i - 1] == '#' else 0), n):\n",
    "                if can_place_block(start, block_length):\n",
    "                    # Update the dp for the position after this block + 1 for the required dot.\n",
    "                    if start + block_length < n and line[start + block_length] == '.':\n",
    "                        dp[start + block_length + 1][j + 1] += dp[i][j]\n",
    "                    elif start + block_length == n:  # End of the string, no dot needed.\n",
    "                        dp[start + block_length][j + 1] += dp[i][j]\n",
    "\n",
    "    # The answer is the number of ways to form all m blocks in the entire string length.\n",
    "    return dp[n][m] + 1"
   ],
   "metadata": {
    "collapsed": false,
    "ExecuteTime": {
     "end_time": "2024-04-18T13:12:23.206520Z",
     "start_time": "2024-04-18T13:12:23.197179Z"
    }
   },
   "id": "a5af216a3eba73b",
   "execution_count": 29
  },
  {
   "cell_type": "code",
   "outputs": [
    {
     "name": "stdout",
     "output_type": "stream",
     "text": [
      "2\n"
     ]
    }
   ],
   "source": [
    "line = \"????.##\"\n",
    "blocks = [1,2]\n",
    "\n",
    "print(count_configurations(line, blocks))"
   ],
   "metadata": {
    "collapsed": false,
    "ExecuteTime": {
     "end_time": "2024-04-18T13:12:32.623029Z",
     "start_time": "2024-04-18T13:12:32.619301Z"
    }
   },
   "id": "37331c960563eab9",
   "execution_count": 31
  },
  {
   "cell_type": "code",
   "outputs": [
    {
     "name": "stdout",
     "output_type": "stream",
     "text": [
      "[[1, 0, 0, 0, 0, 0, 0], [1, 1, 1, 1, 1, 1, 1], [1, 1, 1, 1, 1, 1, 1]]\n",
      "Number of valid configurations: 1\n"
     ]
    }
   ],
   "source": [
    "def solve(string, signature):\n",
    "  \"\"\"\n",
    "  This function finds the number of ways to replace question marks in a string\n",
    "  with dots or grids to match the given signature.\n",
    "\n",
    "  Args:\n",
    "      string: The string with fixed dots, grids, and question marks.\n",
    "      signature: A list representing the size of each grid block.\n",
    "\n",
    "  Returns:\n",
    "      The number of valid configurations for the string based on the signature.\n",
    "  \"\"\"\n",
    "  n = len(string)\n",
    "  m = len(signature)\n",
    "  \n",
    "  # Initialize DP table\n",
    "  dp = [[0 for _ in range(n + 1)] for _ in range(m + 1)]\n",
    "  \n",
    "  # Base cases\n",
    "  for i in range(m + 1):\n",
    "    dp[i][0] = 1\n",
    "  for j in range(1, n + 1):\n",
    "    dp[0][j] = 0\n",
    "\n",
    "  # Fill DP table\n",
    "  for i in range(1, m + 1):\n",
    "    for j in range(1, n + 1):\n",
    "      dp[i][j] = dp[i][j-1]  # Place a dot\n",
    "      \n",
    "      # Place a grid (if conditions met)\n",
    "      if string[j-1] == '.' and j >= signature[i-1] + 1 and string[j - signature[i-1] - 1] == '.':\n",
    "        dp[i][j] += dp[i-1][j-signature[i-1]-1]\n",
    "  \n",
    "  print(dp)\n",
    "  return dp[m][n]\n",
    "\n",
    "# Example usage\n",
    "string = \".??.##\"\n",
    "signature = [1, 2]\n",
    "\n",
    "num_configurations = solve(string, signature)\n",
    "print(\"Number of valid configurations:\", num_configurations)"
   ],
   "metadata": {
    "collapsed": false,
    "ExecuteTime": {
     "end_time": "2024-04-18T20:01:10.313337Z",
     "start_time": "2024-04-18T20:01:10.304120Z"
    }
   },
   "id": "b2601170d71ebcee",
   "execution_count": 50
  },
  {
   "cell_type": "code",
   "outputs": [],
   "source": [],
   "metadata": {
    "collapsed": false
   },
   "id": "c4e6f2201cccfe6d"
  }
 ],
 "metadata": {
  "kernelspec": {
   "display_name": "Python 3",
   "language": "python",
   "name": "python3"
  },
  "language_info": {
   "codemirror_mode": {
    "name": "ipython",
    "version": 2
   },
   "file_extension": ".py",
   "mimetype": "text/x-python",
   "name": "python",
   "nbconvert_exporter": "python",
   "pygments_lexer": "ipython2",
   "version": "2.7.6"
  }
 },
 "nbformat": 4,
 "nbformat_minor": 5
}
